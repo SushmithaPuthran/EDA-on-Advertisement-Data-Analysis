{
 "cells": [
  {
   "cell_type": "markdown",
   "metadata": {},
   "source": [
    "# EDA on Advertisement Data Analysis"
   ]
  },
  {
   "cell_type": "markdown",
   "metadata": {},
   "source": [
    "This dataset file consists of advertising expenditure incurred on different mediums and the overall increase in revenue that was seen during that time.\n",
    "\n",
    "The dataset contains statistics about the increase in sales of a product in 200 different months, together with advertising budgets in each of these months for different media channels: TV, radio and newspaper. The budget and the increase in sales is in thousands of dollars.\n",
    "\n",
    "Here we have build the model using Linear regression and KNN and we can conculde that KNN gives us a good RMSE and Raquare value"
   ]
  },
  {
   "cell_type": "code",
   "execution_count": 1,
   "metadata": {},
   "outputs": [],
   "source": [
    "import pandas as pd\n",
    "import numpy as np\n",
    "import matplotlib.pyplot as plt\n",
    "import seaborn as sns"
   ]
  },
  {
   "cell_type": "code",
   "execution_count": 2,
   "metadata": {},
   "outputs": [
    {
     "data": {
      "text/html": [
       "<div>\n",
       "<style scoped>\n",
       "    .dataframe tbody tr th:only-of-type {\n",
       "        vertical-align: middle;\n",
       "    }\n",
       "\n",
       "    .dataframe tbody tr th {\n",
       "        vertical-align: top;\n",
       "    }\n",
       "\n",
       "    .dataframe thead th {\n",
       "        text-align: right;\n",
       "    }\n",
       "</style>\n",
       "<table border=\"1\" class=\"dataframe\">\n",
       "  <thead>\n",
       "    <tr style=\"text-align: right;\">\n",
       "      <th></th>\n",
       "      <th>TV</th>\n",
       "      <th>radio</th>\n",
       "      <th>newspaper</th>\n",
       "      <th>sales</th>\n",
       "    </tr>\n",
       "  </thead>\n",
       "  <tbody>\n",
       "    <tr>\n",
       "      <th>1</th>\n",
       "      <td>230.1</td>\n",
       "      <td>37.8</td>\n",
       "      <td>69.2</td>\n",
       "      <td>22.1</td>\n",
       "    </tr>\n",
       "    <tr>\n",
       "      <th>2</th>\n",
       "      <td>44.5</td>\n",
       "      <td>39.3</td>\n",
       "      <td>45.1</td>\n",
       "      <td>10.4</td>\n",
       "    </tr>\n",
       "    <tr>\n",
       "      <th>3</th>\n",
       "      <td>17.2</td>\n",
       "      <td>45.9</td>\n",
       "      <td>69.3</td>\n",
       "      <td>9.3</td>\n",
       "    </tr>\n",
       "    <tr>\n",
       "      <th>4</th>\n",
       "      <td>151.5</td>\n",
       "      <td>41.3</td>\n",
       "      <td>58.5</td>\n",
       "      <td>18.5</td>\n",
       "    </tr>\n",
       "    <tr>\n",
       "      <th>5</th>\n",
       "      <td>180.8</td>\n",
       "      <td>10.8</td>\n",
       "      <td>58.4</td>\n",
       "      <td>12.9</td>\n",
       "    </tr>\n",
       "  </tbody>\n",
       "</table>\n",
       "</div>"
      ],
      "text/plain": [
       "      TV  radio  newspaper  sales\n",
       "1  230.1   37.8       69.2   22.1\n",
       "2   44.5   39.3       45.1   10.4\n",
       "3   17.2   45.9       69.3    9.3\n",
       "4  151.5   41.3       58.5   18.5\n",
       "5  180.8   10.8       58.4   12.9"
      ]
     },
     "execution_count": 2,
     "metadata": {},
     "output_type": "execute_result"
    }
   ],
   "source": [
    "#read data into a Dataframe\n",
    "data=pd.read_csv(r\"C:\\Users\\Sushmitha\\Downloads\\Advertising.csv\",index_col=0,header=0)# here index_col we are putting as 0 because 1st column is index column we dnt use it in the project\n",
    "data.head()"
   ]
  },
  {
   "cell_type": "code",
   "execution_count": 3,
   "metadata": {},
   "outputs": [
    {
     "name": "stdout",
     "output_type": "stream",
     "text": [
      "TV           float64\n",
      "radio        float64\n",
      "newspaper    float64\n",
      "sales        float64\n",
      "dtype: object\n",
      "(200, 4)\n",
      "               TV       radio   newspaper       sales\n",
      "count  200.000000  200.000000  200.000000  200.000000\n",
      "mean   147.042500   23.264000   30.554000   14.022500\n",
      "std     85.854236   14.846809   21.778621    5.217457\n",
      "min      0.700000    0.000000    0.300000    1.600000\n",
      "25%     74.375000    9.975000   12.750000   10.375000\n",
      "50%    149.750000   22.900000   25.750000   12.900000\n",
      "75%    218.825000   36.525000   45.100000   17.400000\n",
      "max    296.400000   49.600000  114.000000   27.000000\n"
     ]
    }
   ],
   "source": [
    "# doing structal EDA\n",
    "print(data.dtypes)\n",
    "print(data.shape)\n",
    "print(data.describe())"
   ]
  },
  {
   "cell_type": "code",
   "execution_count": 4,
   "metadata": {},
   "outputs": [
    {
     "data": {
      "text/plain": [
       "TV           0\n",
       "radio        0\n",
       "newspaper    0\n",
       "sales        0\n",
       "dtype: int64"
      ]
     },
     "execution_count": 4,
     "metadata": {},
     "output_type": "execute_result"
    }
   ],
   "source": [
    "# checking for missing values\n",
    "data.isnull().sum()"
   ]
  },
  {
   "cell_type": "markdown",
   "metadata": {},
   "source": [
    "###### Insight: We have no missing values in this dataset "
   ]
  },
  {
   "cell_type": "markdown",
   "metadata": {},
   "source": [
    "### Pre-Processing"
   ]
  },
  {
   "cell_type": "code",
   "execution_count": 6,
   "metadata": {},
   "outputs": [
    {
     "data": {
      "image/png": "[encoded data removed]",
      "text/plain": [
       "<Figure size 432x288 with 1 Axes>"
      ]
     },
     "metadata": {
      "needs_background": "light"
     },
     "output_type": "display_data"
    },
    {
     "data": {
      "image/png": "[encoded data removed]",
      "text/plain": [
       "<Figure size 432x288 with 1 Axes>"
      ]
     },
     "metadata": {
      "needs_background": "light"
     },
     "output_type": "display_data"
    },
    {
     "data": {
      "image/png": "[encoded data removed]",
      "text/plain": [
       "<Figure size 432x288 with 1 Axes>"
      ]
     },
     "metadata": {
      "needs_background": "light"
     },
     "output_type": "display_data"
    },
    {
     "data": {
      "image/png": "[encoded data removed]",
      "text/plain": [
       "<Figure size 432x288 with 1 Axes>"
      ]
     },
     "metadata": {
      "needs_background": "light"
     },
     "output_type": "display_data"
    }
   ],
   "source": [
    "#Assumption 1:There should be no outliers in the data\n",
    "#check using boxplot\n",
    "for i in data.columns:  # we are checking for each columns\n",
    "    data.boxplot(column=i)\n",
    "    plt.show()"
   ]
  },
  {
   "cell_type": "markdown",
   "metadata": {},
   "source": [
    "###### Insight: From the assumption 1 we can observe that newspaper variable has outlier so we go ahead and check with the client if that outlier data points are valid points if not we can remove the outliers.\n",
    "###### Insight: Here we are not removing the outliers let us go head and check for another assumption "
   ]
  },
  {
   "cell_type": "code",
   "execution_count": 7,
   "metadata": {},
   "outputs": [
    {
     "data": {
      "image/png": "[encoded data removed]",
      "text/plain": [
       "<Figure size 540x180 with 3 Axes>"
      ]
     },
     "metadata": {
      "needs_background": "light"
     },
     "output_type": "display_data"
    }
   ],
   "source": [
    "#Assumption 2:Assumption of linearity;Every independent var should have as liner relationship with the dependent variable\n",
    "sns.pairplot(data,x_vars=['TV','radio','newspaper'],y_vars='sales',kind='reg')# here x_vars are we are taking x variables and y_vars we are taking y variable and kind is we want regression line\n",
    "plt.show()"
   ]
  },
  {
   "cell_type": "markdown",
   "metadata": {},
   "source": [
    "###### Insights:Here from Assumption 2 we can see that Tv variable shows strong postive relation and radion variable shows moderate postive relation and newspaper variable shows no relation\n",
    "\n",
    "###### Insights:So here we will go ahead and drop the newspaper variable "
   ]
  },
  {
   "cell_type": "code",
   "execution_count": 8,
   "metadata": {},
   "outputs": [],
   "source": [
    "# Dropping the newspaper variable \n",
    "data.drop(['newspaper'],axis=1,inplace=True)"
   ]
  },
  {
   "cell_type": "code",
   "execution_count": 9,
   "metadata": {},
   "outputs": [
    {
     "data": {
      "text/plain": [
       "(200, 3)"
      ]
     },
     "execution_count": 9,
     "metadata": {},
     "output_type": "execute_result"
    }
   ],
   "source": [
    "#checking the demension \n",
    "data.shape"
   ]
  },
  {
   "cell_type": "markdown",
   "metadata": {},
   "source": [
    "#### Creating X and Y"
   ]
  },
  {
   "cell_type": "code",
   "execution_count": 10,
   "metadata": {},
   "outputs": [],
   "source": [
    "X=data.loc[:,['TV','radio']]# all rows : and 2 columns that is tv and radio \n",
    "Y=data.loc[:,'sales'] # all rows and 1 column that is sales"
   ]
  },
  {
   "cell_type": "code",
   "execution_count": 11,
   "metadata": {},
   "outputs": [
    {
     "name": "stdout",
     "output_type": "stream",
     "text": [
      "(200, 2)\n",
      "(200,)\n"
     ]
    }
   ],
   "source": [
    "# to check if the x and y is created \n",
    "print(X.shape)\n",
    "print(Y.shape)"
   ]
  },
  {
   "cell_type": "code",
   "execution_count": 12,
   "metadata": {},
   "outputs": [
    {
     "data": {
      "image/png": "[encoded data removed]",
      "text/plain": [
       "<Figure size 432x288 with 1 Axes>"
      ]
     },
     "metadata": {
      "needs_background": "light"
     },
     "output_type": "display_data"
    }
   ],
   "source": [
    "#Assumption of normality:The dependent variable should follow on approximate normal distrbution \n",
    "sns.distplot(Y)\n",
    "plt.show()"
   ]
  },
  {
   "cell_type": "markdown",
   "metadata": {},
   "source": [
    "###### Insights: Here from Assumption of normality we can observe that the sales variable is approximate normal distrbution with slight right skewed.\n"
   ]
  },
  {
   "cell_type": "code",
   "execution_count": 14,
   "metadata": {},
   "outputs": [
    {
     "data": {
      "image/png": "[encoded data removed]",
      "text/plain": [
       "<Figure size 432x288 with 2 Axes>"
      ]
     },
     "metadata": {
      "needs_background": "light"
     },
     "output_type": "display_data"
    }
   ],
   "source": [
    "# checking the assumption of normality for X variables\n",
    "X.hist(bins=20)\n",
    "plt.show()"
   ]
  },
  {
   "cell_type": "markdown",
   "metadata": {},
   "source": [
    "###### Insight: Here from Assumption of normality we can observe that both the variables are noramly distributed"
   ]
  },
  {
   "cell_type": "code",
   "execution_count": 16,
   "metadata": {},
   "outputs": [
    {
     "name": "stdout",
     "output_type": "stream",
     "text": [
      "             TV     radio\n",
      "TV     1.000000  0.054809\n",
      "radio  0.054809  1.000000\n"
     ]
    },
    {
     "data": {
      "image/png": "[encoded data removed]",
      "text/plain": [
       "<Figure size 432x288 with 2 Axes>"
      ]
     },
     "metadata": {
      "needs_background": "light"
     },
     "output_type": "display_data"
    }
   ],
   "source": [
    "#Assumption of  no multicollinearity: There should be no multicollinearity between the \n",
    "#independent varoables multicollinearity is the relationship amongst the independent variables\n",
    "corr_df=X.corr(method='pearson')\n",
    "print(corr_df)\n",
    "\n",
    "sns.heatmap(corr_df,vmax=1.0,vmin=-1.0,annot=True)# here vmax and vmin is for the colours in the heatmap given below and annot=true for the label inside the heatmap\n",
    "plt.show()"
   ]
  },
  {
   "cell_type": "markdown",
   "metadata": {},
   "source": [
    "###### Insights: Here from the Assumption of  no multicollinearity  using heat map method we  can se that radio and Tv are not corellated"
   ]
  },
  {
   "cell_type": "code",
   "execution_count": 18,
   "metadata": {},
   "outputs": [
    {
     "data": {
      "text/html": [
       "<div>\n",
       "<style scoped>\n",
       "    .dataframe tbody tr th:only-of-type {\n",
       "        vertical-align: middle;\n",
       "    }\n",
       "\n",
       "    .dataframe tbody tr th {\n",
       "        vertical-align: top;\n",
       "    }\n",
       "\n",
       "    .dataframe thead th {\n",
       "        text-align: right;\n",
       "    }\n",
       "</style>\n",
       "<table border=\"1\" class=\"dataframe\">\n",
       "  <thead>\n",
       "    <tr style=\"text-align: right;\">\n",
       "      <th></th>\n",
       "      <th>features</th>\n",
       "      <th>VIF Factor</th>\n",
       "    </tr>\n",
       "  </thead>\n",
       "  <tbody>\n",
       "    <tr>\n",
       "      <th>0</th>\n",
       "      <td>TV</td>\n",
       "      <td>2.24</td>\n",
       "    </tr>\n",
       "    <tr>\n",
       "      <th>1</th>\n",
       "      <td>radio</td>\n",
       "      <td>2.24</td>\n",
       "    </tr>\n",
       "  </tbody>\n",
       "</table>\n",
       "</div>"
      ],
      "text/plain": [
       "  features  VIF Factor\n",
       "0       TV        2.24\n",
       "1    radio        2.24"
      ]
     },
     "execution_count": 18,
     "metadata": {},
     "output_type": "execute_result"
    }
   ],
   "source": [
    "#VIF method to check the multicollinearity \n",
    "\n",
    "from statsmodels.stats.outliers_influence import variance_inflation_factor as vif\n",
    "\n",
    "vif_df = pd.DataFrame()# creating the empty dataframe frame\n",
    "vif_df[\"features\"] = X.columns\n",
    "vif_df[\"VIF Factor\"] = [vif(X.values, i) for i in range(X.shape[1])]# storing x vlaues independent values X.values will take all the values of X variables and compre with each and every dependent varibale that is i each at time\n",
    "vif_df.round(2)# rounding off"
   ]
  },
  {
   "cell_type": "markdown",
   "metadata": {},
   "source": [
    "###### Insights:Here from Assumption of multicollinearity we can observe that Tv and Radio  variable VIF Factor is less than 5 which means there are not corellated"
   ]
  },
  {
   "cell_type": "markdown",
   "metadata": {},
   "source": [
    "### Training phase"
   ]
  },
  {
   "cell_type": "code",
   "execution_count": 20,
   "metadata": {},
   "outputs": [],
   "source": [
    "from sklearn.model_selection import train_test_split\n",
    "\n",
    "#split the data into test and train\n",
    "X_train,X_test,Y_train,Y_test=train_test_split(X,Y,test_size=0.2,random_state=10)"
   ]
  },
  {
   "cell_type": "code",
   "execution_count": 21,
   "metadata": {},
   "outputs": [
    {
     "name": "stdout",
     "output_type": "stream",
     "text": [
      "(160, 2)\n",
      "(160,)\n",
      "(40, 2)\n",
      "(40,)\n"
     ]
    }
   ],
   "source": [
    "print(X_train.shape)\n",
    "print(Y_train.shape)\n",
    "print(X_test.shape)\n",
    "print(Y_test.shape)"
   ]
  },
  {
   "cell_type": "markdown",
   "metadata": {},
   "source": [
    "##### Building the model"
   ]
  },
  {
   "cell_type": "code",
   "execution_count": 23,
   "metadata": {},
   "outputs": [
    {
     "name": "stdout",
     "output_type": "stream",
     "text": [
      "3.2170261085129717\n",
      "[0.04372065 0.19242472]\n"
     ]
    }
   ],
   "source": [
    "from sklearn.linear_model import LinearRegression\n",
    "#create a model object\n",
    "lm=LinearRegression()\n",
    "#train the model object\n",
    "lm.fit(X_train,Y_train)# fit function is used to train the model\n",
    "#print intercept and coeeficients\n",
    "print(lm.intercept_) #to get dependent values \n",
    "print(lm.coef_)# to get independent values that is x values "
   ]
  },
  {
   "cell_type": "code",
   "execution_count": 24,
   "metadata": {},
   "outputs": [
    {
     "name": "stdout",
     "output_type": "stream",
     "text": [
      "[('TV', 0.04372064804168898), ('radio', 0.19242471657994656)]\n"
     ]
    }
   ],
   "source": [
    "# now to get the names of which x values these are we use this \n",
    "#pair the feature names with the cofficient\n",
    "print(list(zip(X.columns,lm.coef_)))"
   ]
  },
  {
   "cell_type": "markdown",
   "metadata": {},
   "source": [
    "###### Insight: Here Tv gives 0.04372064804168898 profit and radio gives 0.19242471657994656 profit"
   ]
  },
  {
   "cell_type": "code",
   "execution_count": 26,
   "metadata": {},
   "outputs": [
    {
     "name": "stdout",
     "output_type": "stream",
     "text": [
      "[18.10549579 13.00696439 18.09578029 23.69803999 20.70228503 14.25602829\n",
      " 14.93688357 21.418844   21.14310766 12.80131575 24.02246336  7.2230243\n",
      " 12.36486517 19.24592959 19.46623318 13.40290827 19.55950449  9.20661663\n",
      " 21.09644597 20.85811367 15.48792533 10.86764934 22.85776684 15.86934534\n",
      " 17.41104133  8.21459064 11.84083864 12.72488631 21.69123531  7.94168761\n",
      " 12.51565024 20.43974568  4.72722348  4.75607372 16.71555983 15.75710627\n",
      "  6.72342208 17.68650834  9.04377293 13.59474227]\n"
     ]
    }
   ],
   "source": [
    "#predict using the model\n",
    "Y_pred=lm.predict(X_test)# we dnt pass y test on the model \n",
    "print(Y_pred)"
   ]
  },
  {
   "cell_type": "code",
   "execution_count": 28,
   "metadata": {},
   "outputs": [
    {
     "data": {
      "text/html": [
       "<div>\n",
       "<style scoped>\n",
       "    .dataframe tbody tr th:only-of-type {\n",
       "        vertical-align: middle;\n",
       "    }\n",
       "\n",
       "    .dataframe tbody tr th {\n",
       "        vertical-align: top;\n",
       "    }\n",
       "\n",
       "    .dataframe thead th {\n",
       "        text-align: right;\n",
       "    }\n",
       "</style>\n",
       "<table border=\"1\" class=\"dataframe\">\n",
       "  <thead>\n",
       "    <tr style=\"text-align: right;\">\n",
       "      <th></th>\n",
       "      <th>TV</th>\n",
       "      <th>radio</th>\n",
       "      <th>Actual sales</th>\n",
       "      <th>Predicted sales</th>\n",
       "    </tr>\n",
       "  </thead>\n",
       "  <tbody>\n",
       "    <tr>\n",
       "      <th>0</th>\n",
       "      <td>210.7</td>\n",
       "      <td>29.5</td>\n",
       "      <td>18.4</td>\n",
       "      <td>18.105496</td>\n",
       "    </tr>\n",
       "    <tr>\n",
       "      <th>1</th>\n",
       "      <td>8.7</td>\n",
       "      <td>48.9</td>\n",
       "      <td>7.2</td>\n",
       "      <td>13.006964</td>\n",
       "    </tr>\n",
       "    <tr>\n",
       "      <th>2</th>\n",
       "      <td>218.4</td>\n",
       "      <td>27.7</td>\n",
       "      <td>18.0</td>\n",
       "      <td>18.095780</td>\n",
       "    </tr>\n",
       "    <tr>\n",
       "      <th>3</th>\n",
       "      <td>283.6</td>\n",
       "      <td>42.0</td>\n",
       "      <td>25.5</td>\n",
       "      <td>23.698040</td>\n",
       "    </tr>\n",
       "    <tr>\n",
       "      <th>4</th>\n",
       "      <td>216.4</td>\n",
       "      <td>41.7</td>\n",
       "      <td>22.6</td>\n",
       "      <td>20.702285</td>\n",
       "    </tr>\n",
       "    <tr>\n",
       "      <th>5</th>\n",
       "      <td>147.3</td>\n",
       "      <td>23.9</td>\n",
       "      <td>14.6</td>\n",
       "      <td>14.256028</td>\n",
       "    </tr>\n",
       "    <tr>\n",
       "      <th>6</th>\n",
       "      <td>188.4</td>\n",
       "      <td>18.1</td>\n",
       "      <td>14.9</td>\n",
       "      <td>14.936884</td>\n",
       "    </tr>\n",
       "    <tr>\n",
       "      <th>7</th>\n",
       "      <td>198.9</td>\n",
       "      <td>49.4</td>\n",
       "      <td>23.7</td>\n",
       "      <td>21.418844</td>\n",
       "    </tr>\n",
       "    <tr>\n",
       "      <th>8</th>\n",
       "      <td>216.8</td>\n",
       "      <td>43.9</td>\n",
       "      <td>22.3</td>\n",
       "      <td>21.143108</td>\n",
       "    </tr>\n",
       "    <tr>\n",
       "      <th>9</th>\n",
       "      <td>17.2</td>\n",
       "      <td>45.9</td>\n",
       "      <td>9.3</td>\n",
       "      <td>12.801316</td>\n",
       "    </tr>\n",
       "    <tr>\n",
       "      <th>10</th>\n",
       "      <td>289.7</td>\n",
       "      <td>42.3</td>\n",
       "      <td>25.4</td>\n",
       "      <td>24.022463</td>\n",
       "    </tr>\n",
       "    <tr>\n",
       "      <th>11</th>\n",
       "      <td>66.1</td>\n",
       "      <td>5.8</td>\n",
       "      <td>8.6</td>\n",
       "      <td>7.223024</td>\n",
       "    </tr>\n",
       "    <tr>\n",
       "      <th>12</th>\n",
       "      <td>16.9</td>\n",
       "      <td>43.7</td>\n",
       "      <td>8.7</td>\n",
       "      <td>12.364865</td>\n",
       "    </tr>\n",
       "    <tr>\n",
       "      <th>13</th>\n",
       "      <td>220.5</td>\n",
       "      <td>33.2</td>\n",
       "      <td>20.1</td>\n",
       "      <td>19.245930</td>\n",
       "    </tr>\n",
       "    <tr>\n",
       "      <th>14</th>\n",
       "      <td>229.5</td>\n",
       "      <td>32.3</td>\n",
       "      <td>19.7</td>\n",
       "      <td>19.466233</td>\n",
       "    </tr>\n",
       "    <tr>\n",
       "      <th>15</th>\n",
       "      <td>102.7</td>\n",
       "      <td>29.6</td>\n",
       "      <td>14.0</td>\n",
       "      <td>13.402908</td>\n",
       "    </tr>\n",
       "    <tr>\n",
       "      <th>16</th>\n",
       "      <td>255.4</td>\n",
       "      <td>26.9</td>\n",
       "      <td>19.8</td>\n",
       "      <td>19.559504</td>\n",
       "    </tr>\n",
       "    <tr>\n",
       "      <th>17</th>\n",
       "      <td>5.4</td>\n",
       "      <td>29.9</td>\n",
       "      <td>5.3</td>\n",
       "      <td>9.206617</td>\n",
       "    </tr>\n",
       "    <tr>\n",
       "      <th>18</th>\n",
       "      <td>241.7</td>\n",
       "      <td>38.0</td>\n",
       "      <td>21.8</td>\n",
       "      <td>21.096446</td>\n",
       "    </tr>\n",
       "    <tr>\n",
       "      <th>19</th>\n",
       "      <td>205.0</td>\n",
       "      <td>45.1</td>\n",
       "      <td>22.6</td>\n",
       "      <td>20.858114</td>\n",
       "    </tr>\n",
       "    <tr>\n",
       "      <th>20</th>\n",
       "      <td>187.8</td>\n",
       "      <td>21.1</td>\n",
       "      <td>15.6</td>\n",
       "      <td>15.487925</td>\n",
       "    </tr>\n",
       "    <tr>\n",
       "      <th>21</th>\n",
       "      <td>0.7</td>\n",
       "      <td>39.6</td>\n",
       "      <td>1.6</td>\n",
       "      <td>10.867649</td>\n",
       "    </tr>\n",
       "    <tr>\n",
       "      <th>22</th>\n",
       "      <td>261.3</td>\n",
       "      <td>42.7</td>\n",
       "      <td>24.2</td>\n",
       "      <td>22.857767</td>\n",
       "    </tr>\n",
       "    <tr>\n",
       "      <th>23</th>\n",
       "      <td>110.7</td>\n",
       "      <td>40.6</td>\n",
       "      <td>16.0</td>\n",
       "      <td>15.869345</td>\n",
       "    </tr>\n",
       "    <tr>\n",
       "      <th>24</th>\n",
       "      <td>280.2</td>\n",
       "      <td>10.1</td>\n",
       "      <td>14.8</td>\n",
       "      <td>17.411041</td>\n",
       "    </tr>\n",
       "    <tr>\n",
       "      <th>25</th>\n",
       "      <td>18.8</td>\n",
       "      <td>21.7</td>\n",
       "      <td>7.0</td>\n",
       "      <td>8.214591</td>\n",
       "    </tr>\n",
       "    <tr>\n",
       "      <th>26</th>\n",
       "      <td>25.6</td>\n",
       "      <td>39.0</td>\n",
       "      <td>9.5</td>\n",
       "      <td>11.840839</td>\n",
       "    </tr>\n",
       "    <tr>\n",
       "      <th>27</th>\n",
       "      <td>44.5</td>\n",
       "      <td>39.3</td>\n",
       "      <td>10.4</td>\n",
       "      <td>12.724886</td>\n",
       "    </tr>\n",
       "    <tr>\n",
       "      <th>28</th>\n",
       "      <td>239.9</td>\n",
       "      <td>41.5</td>\n",
       "      <td>23.2</td>\n",
       "      <td>21.691235</td>\n",
       "    </tr>\n",
       "    <tr>\n",
       "      <th>29</th>\n",
       "      <td>19.6</td>\n",
       "      <td>20.1</td>\n",
       "      <td>7.6</td>\n",
       "      <td>7.941688</td>\n",
       "    </tr>\n",
       "    <tr>\n",
       "      <th>30</th>\n",
       "      <td>131.7</td>\n",
       "      <td>18.4</td>\n",
       "      <td>12.9</td>\n",
       "      <td>12.515650</td>\n",
       "    </tr>\n",
       "    <tr>\n",
       "      <th>31</th>\n",
       "      <td>228.0</td>\n",
       "      <td>37.7</td>\n",
       "      <td>21.5</td>\n",
       "      <td>20.439746</td>\n",
       "    </tr>\n",
       "    <tr>\n",
       "      <th>32</th>\n",
       "      <td>27.5</td>\n",
       "      <td>1.6</td>\n",
       "      <td>6.9</td>\n",
       "      <td>4.727223</td>\n",
       "    </tr>\n",
       "    <tr>\n",
       "      <th>33</th>\n",
       "      <td>28.6</td>\n",
       "      <td>1.5</td>\n",
       "      <td>7.3</td>\n",
       "      <td>4.756074</td>\n",
       "    </tr>\n",
       "    <tr>\n",
       "      <th>34</th>\n",
       "      <td>290.7</td>\n",
       "      <td>4.1</td>\n",
       "      <td>12.8</td>\n",
       "      <td>16.715560</td>\n",
       "    </tr>\n",
       "    <tr>\n",
       "      <th>35</th>\n",
       "      <td>276.7</td>\n",
       "      <td>2.3</td>\n",
       "      <td>11.8</td>\n",
       "      <td>15.757106</td>\n",
       "    </tr>\n",
       "    <tr>\n",
       "      <th>36</th>\n",
       "      <td>80.2</td>\n",
       "      <td>0.0</td>\n",
       "      <td>8.8</td>\n",
       "      <td>6.723422</td>\n",
       "    </tr>\n",
       "    <tr>\n",
       "      <th>37</th>\n",
       "      <td>284.3</td>\n",
       "      <td>10.6</td>\n",
       "      <td>15.0</td>\n",
       "      <td>17.686508</td>\n",
       "    </tr>\n",
       "    <tr>\n",
       "      <th>38</th>\n",
       "      <td>89.7</td>\n",
       "      <td>9.9</td>\n",
       "      <td>10.6</td>\n",
       "      <td>9.043773</td>\n",
       "    </tr>\n",
       "    <tr>\n",
       "      <th>39</th>\n",
       "      <td>222.4</td>\n",
       "      <td>3.4</td>\n",
       "      <td>11.5</td>\n",
       "      <td>13.594742</td>\n",
       "    </tr>\n",
       "  </tbody>\n",
       "</table>\n",
       "</div>"
      ],
      "text/plain": [
       "       TV  radio  Actual sales  Predicted sales\n",
       "0   210.7   29.5          18.4        18.105496\n",
       "1     8.7   48.9           7.2        13.006964\n",
       "2   218.4   27.7          18.0        18.095780\n",
       "3   283.6   42.0          25.5        23.698040\n",
       "4   216.4   41.7          22.6        20.702285\n",
       "5   147.3   23.9          14.6        14.256028\n",
       "6   188.4   18.1          14.9        14.936884\n",
       "7   198.9   49.4          23.7        21.418844\n",
       "8   216.8   43.9          22.3        21.143108\n",
       "9    17.2   45.9           9.3        12.801316\n",
       "10  289.7   42.3          25.4        24.022463\n",
       "11   66.1    5.8           8.6         7.223024\n",
       "12   16.9   43.7           8.7        12.364865\n",
       "13  220.5   33.2          20.1        19.245930\n",
       "14  229.5   32.3          19.7        19.466233\n",
       "15  102.7   29.6          14.0        13.402908\n",
       "16  255.4   26.9          19.8        19.559504\n",
       "17    5.4   29.9           5.3         9.206617\n",
       "18  241.7   38.0          21.8        21.096446\n",
       "19  205.0   45.1          22.6        20.858114\n",
       "20  187.8   21.1          15.6        15.487925\n",
       "21    0.7   39.6           1.6        10.867649\n",
       "22  261.3   42.7          24.2        22.857767\n",
       "23  110.7   40.6          16.0        15.869345\n",
       "24  280.2   10.1          14.8        17.411041\n",
       "25   18.8   21.7           7.0         8.214591\n",
       "26   25.6   39.0           9.5        11.840839\n",
       "27   44.5   39.3          10.4        12.724886\n",
       "28  239.9   41.5          23.2        21.691235\n",
       "29   19.6   20.1           7.6         7.941688\n",
       "30  131.7   18.4          12.9        12.515650\n",
       "31  228.0   37.7          21.5        20.439746\n",
       "32   27.5    1.6           6.9         4.727223\n",
       "33   28.6    1.5           7.3         4.756074\n",
       "34  290.7    4.1          12.8        16.715560\n",
       "35  276.7    2.3          11.8        15.757106\n",
       "36   80.2    0.0           8.8         6.723422\n",
       "37  284.3   10.6          15.0        17.686508\n",
       "38   89.7    9.9          10.6         9.043773\n",
       "39  222.4    3.4          11.5        13.594742"
      ]
     },
     "execution_count": 28,
     "metadata": {},
     "output_type": "execute_result"
    }
   ],
   "source": [
    "#This step is optional its is just to chcek actual value and predicted value \n",
    "\n",
    "new_df=pd.DataFrame()\n",
    "new_df=X_test.copy()\n",
    "\n",
    "new_df['Actual sales']=Y_test\n",
    "new_df['Predicted sales']=Y_pred\n",
    "new_df=new_df.reset_index().drop('index',axis=1)\n",
    "new_df"
   ]
  },
  {
   "cell_type": "code",
   "execution_count": 29,
   "metadata": {},
   "outputs": [
    {
     "data": {
      "image/png": "[encoded data removed]",
      "text/plain": [
       "<Figure size 432x288 with 1 Axes>"
      ]
     },
     "metadata": {
      "needs_background": "light"
     },
     "output_type": "display_data"
    }
   ],
   "source": [
    "new_df['Actual sales'].plot()\n",
    "new_df['Predicted sales'].plot()\n",
    "plt.show()"
   ]
  },
  {
   "cell_type": "code",
   "execution_count": 30,
   "metadata": {},
   "outputs": [
    {
     "name": "stdout",
     "output_type": "stream",
     "text": [
      "R-squared: 0.8354496662944217\n",
      "RMSE: 2.5878817077378105\n",
      "Adj R-square: 0.8337791045309133\n"
     ]
    }
   ],
   "source": [
    "from sklearn.metrics import r2_score,mean_squared_error\n",
    "import numpy as np\n",
    "\n",
    "r2=r2_score(Y_test,Y_pred)\n",
    "print('R-squared:',r2)\n",
    "\n",
    "rmse=np.sqrt(mean_squared_error(Y_test,Y_pred))\n",
    "print(\"RMSE:\",rmse)\n",
    "\n",
    "adjusted_r_squared = 1 - (1-r2)*(len(Y)-1)/(len(Y)-X.shape[1]-1)\n",
    "print(\"Adj R-square:\",adjusted_r_squared)"
   ]
  },
  {
   "cell_type": "markdown",
   "metadata": {},
   "source": [
    "###### Insight : Here we can observe that R-squared: 0.8354496662944217,RMSE: 2.5878817077378105,Adj R-square: 0.8337791045309133"
   ]
  },
  {
   "cell_type": "markdown",
   "metadata": {},
   "source": [
    "## Ridge Regression"
   ]
  },
  {
   "cell_type": "code",
   "execution_count": 31,
   "metadata": {},
   "outputs": [],
   "source": [
    "from sklearn.model_selection import train_test_split\n",
    "\n",
    "#split the data into test and train\n",
    "X_train,X_test,Y_train,Y_test=train_test_split(X,Y,test_size=0.2,random_state=10)"
   ]
  },
  {
   "cell_type": "code",
   "execution_count": 32,
   "metadata": {},
   "outputs": [
    {
     "name": "stdout",
     "output_type": "stream",
     "text": [
      "3.217150827823975\n",
      "[0.04372067 0.19241894]\n"
     ]
    }
   ],
   "source": [
    "from sklearn.linear_model import Ridge\n",
    "#create a model object\n",
    "lm=Ridge()\n",
    "#train the model object\n",
    "lm.fit(X_train,Y_train)# fit function is used to train the model\n",
    "#print intercept and coeeficients\n",
    "print(lm.intercept_) #to get dependent values \n",
    "print(lm.coef_)# to get independent values that is x values "
   ]
  },
  {
   "cell_type": "code",
   "execution_count": 33,
   "metadata": {},
   "outputs": [
    {
     "name": "stdout",
     "output_type": "stream",
     "text": [
      "[18.10545511 13.00680665 18.0957502  23.69792882 20.70217396 14.25601844\n",
      " 14.93690824 21.418688   21.14298389 12.80117556 24.0223506   7.2231171\n",
      " 12.3647377  19.24586776 19.46617677 13.40286439 19.55947993  9.20656865\n",
      " 21.09635691 20.85798268 15.48793265 10.86754517 22.85765108 15.86923806\n",
      " 17.41111448  8.21459038 11.84073855 12.72478493 21.69112597  7.94169662\n",
      " 12.5156718  20.43965801  4.72733962  4.75619046 16.71566792 15.75722442\n",
      "  6.72354875 17.6865787   9.04384261 13.59485274]\n"
     ]
    }
   ],
   "source": [
    "#predict using the model\n",
    "Y_pred=lm.predict(X_test)\n",
    "print(Y_pred)"
   ]
  },
  {
   "cell_type": "code",
   "execution_count": 34,
   "metadata": {},
   "outputs": [
    {
     "name": "stdout",
     "output_type": "stream",
     "text": [
      "R-squared: 0.835451084422515\n",
      "RMSE: 2.587870556269514\n",
      "Adj R-square: 0.8337805370562461\n"
     ]
    }
   ],
   "source": [
    "from sklearn.metrics import r2_score,mean_squared_error\n",
    "import numpy as np\n",
    "\n",
    "r2=r2_score(Y_test,Y_pred)\n",
    "print('R-squared:',r2)\n",
    "\n",
    "rmse=np.sqrt(mean_squared_error(Y_test,Y_pred))\n",
    "print(\"RMSE:\",rmse)\n",
    "\n",
    "adjusted_r_squared = 1 - (1-r2)*(len(Y)-1)/(len(Y)-X.shape[1]-1)\n",
    "print(\"Adj R-square:\",adjusted_r_squared) "
   ]
  },
  {
   "cell_type": "markdown",
   "metadata": {},
   "source": [
    "###### Insight : Here we can observe that R-squared:  0.835451084422515,RMSE:  2.587870556269514,Adj R-square: 0.8337805370562461"
   ]
  },
  {
   "cell_type": "markdown",
   "metadata": {},
   "source": [
    "## Lasso Regression"
   ]
  },
  {
   "cell_type": "code",
   "execution_count": 35,
   "metadata": {},
   "outputs": [],
   "source": [
    "from sklearn.model_selection import train_test_split\n",
    "\n",
    "#split the data into test and train\n",
    "X_train,X_test,Y_train,Y_test=train_test_split(X,Y,test_size=0.2,random_state=10)"
   ]
  },
  {
   "cell_type": "code",
   "execution_count": 36,
   "metadata": {},
   "outputs": [
    {
     "name": "stdout",
     "output_type": "stream",
     "text": [
      "3.336794058220317\n",
      "[0.04362374 0.18766033]\n"
     ]
    }
   ],
   "source": [
    "from sklearn.linear_model import Lasso\n",
    "#create a model object\n",
    "lm=Lasso()\n",
    "#train the model object\n",
    "lm.fit(X_train,Y_train)# fit function is used to train the model\n",
    "#print intercept and coeeficients\n",
    "print(lm.intercept_) #to get dependent values \n",
    "print(lm.coef_)# to get independent values that is x values "
   ]
  },
  {
   "cell_type": "code",
   "execution_count": 37,
   "metadata": {},
   "outputs": [
    {
     "name": "stdout",
     "output_type": "stream",
     "text": [
      "[18.06429565 12.89291061 18.06240985 23.59022036 20.60240696 14.24765273\n",
      " 14.95215852 21.28397604 21.03270918 12.70073142 23.91262327  7.30875314\n",
      " 12.27479157 19.18615151 19.40987087 13.37169781 19.52635995  9.18340605\n",
      " 21.01174436 20.74314144 15.48896526 10.79867965 22.74877319 15.78495133\n",
      " 17.45553519  8.22914947 11.77231457 12.65310134 21.59003277  7.96379194\n",
      " 12.53499059 20.35780103  4.83670342  4.8659235  16.78762249 15.83910155\n",
      "  6.83541797 17.72822269  9.10768074 13.67675885]\n"
     ]
    }
   ],
   "source": [
    "#predict using the model\n",
    "Y_pred=lm.predict(X_test)\n",
    "print(Y_pred)"
   ]
  },
  {
   "cell_type": "code",
   "execution_count": 38,
   "metadata": {},
   "outputs": [
    {
     "name": "stdout",
     "output_type": "stream",
     "text": [
      "R-squared: 0.8360506658527163\n",
      "RMSE: 2.5831514271094234\n",
      "Adj R-square: 0.8343862056075662\n"
     ]
    }
   ],
   "source": [
    "from sklearn.metrics import r2_score,mean_squared_error\n",
    "import numpy as np\n",
    "\n",
    "r2=r2_score(Y_test,Y_pred)\n",
    "print('R-squared:',r2)\n",
    "\n",
    "rmse=np.sqrt(mean_squared_error(Y_test,Y_pred))\n",
    "print(\"RMSE:\",rmse)\n",
    "\n",
    "adjusted_r_squared = 1 - (1-r2)*(len(Y)-1)/(len(Y)-X.shape[1]-1)\n",
    "print(\"Adj R-square:\",adjusted_r_squared)"
   ]
  },
  {
   "cell_type": "markdown",
   "metadata": {},
   "source": [
    "###### Insight:Here we can observe that R-squared: 0.8360506658527163,RMSE: 2.5831514271094234,Adj R-square: 0.8343862056075662"
   ]
  },
  {
   "cell_type": "markdown",
   "metadata": {},
   "source": [
    "### OLS "
   ]
  },
  {
   "cell_type": "code",
   "execution_count": 39,
   "metadata": {},
   "outputs": [
    {
     "data": {
      "text/plain": [
       "(160, 3)"
      ]
     },
     "execution_count": 39,
     "metadata": {},
     "output_type": "execute_result"
    }
   ],
   "source": [
    "new_df=pd.DataFrame()\n",
    "new_df=X_train.copy()# we are copying only the training phase data that is 160 observation so that we can compare\n",
    "\n",
    "new_df['sales']=Y_train.copy()\n",
    "new_df.shape\n"
   ]
  },
  {
   "cell_type": "code",
   "execution_count": 41,
   "metadata": {},
   "outputs": [
    {
     "name": "stdout",
     "output_type": "stream",
     "text": [
      "Intercept    3.217026\n",
      "TV           0.043721\n",
      "radio        0.192425\n",
      "dtype: float64\n",
      "                            OLS Regression Results                            \n",
      "==============================================================================\n",
      "Dep. Variable:                  sales   R-squared:                       0.921\n",
      "Model:                            OLS   Adj. R-squared:                  0.920\n",
      "Method:                 Least Squares   F-statistic:                     912.9\n",
      "Date:                Mon, 10 Apr 2023   Prob (F-statistic):           3.47e-87\n",
      "Time:                        15:52:40   Log-Likelihood:                -276.70\n",
      "No. Observations:                 160   AIC:                             559.4\n",
      "Df Residuals:                     157   BIC:                             568.6\n",
      "Df Model:                           2                                         \n",
      "Covariance Type:            nonrobust                                         \n",
      "==============================================================================\n",
      "                 coef    std err          t      P>|t|      [0.025      0.975]\n",
      "------------------------------------------------------------------------------\n",
      "Intercept      3.2170      0.271     11.855      0.000       2.681       3.753\n",
      "TV             0.0437      0.001     32.616      0.000       0.041       0.046\n",
      "radio          0.1924      0.008     25.462      0.000       0.177       0.207\n",
      "==============================================================================\n",
      "Omnibus:                       12.555   Durbin-Watson:                   2.100\n",
      "Prob(Omnibus):                  0.002   Jarque-Bera (JB):               13.347\n",
      "Skew:                          -0.697   Prob(JB):                      0.00126\n",
      "Kurtosis:                       3.241   Cond. No.                         418.\n",
      "==============================================================================\n",
      "\n",
      "Warnings:\n",
      "[1] Standard Errors assume that the covariance matrix of the errors is correctly specified.\n"
     ]
    }
   ],
   "source": [
    "import statsmodels.formula.api as sm\n",
    "\n",
    "#create a fitted model with all three features\n",
    "lm_model=sm.ols(formula='sales ~ TV + radio',data=new_df).fit()\n",
    "\n",
    "#print the cofficients\n",
    "print(lm_model.params)\n",
    "print(lm_model.summary())"
   ]
  },
  {
   "cell_type": "markdown",
   "metadata": {},
   "source": [
    "###### Insight: Here we can observe that Durbin-Watson: 2.100 which means there is no auto-correlation"
   ]
  },
  {
   "cell_type": "code",
   "execution_count": 42,
   "metadata": {},
   "outputs": [],
   "source": [
    "Y_pred_new=lm_model.predict(X_test)"
   ]
  },
  {
   "cell_type": "code",
   "execution_count": 43,
   "metadata": {},
   "outputs": [
    {
     "name": "stdout",
     "output_type": "stream",
     "text": [
      "R-squared: 0.8354496662944217\n",
      "RMSE: 2.587881707737811\n",
      "Adj R-square: 0.8337791045309133\n"
     ]
    }
   ],
   "source": [
    "from sklearn.metrics import r2_score,mean_squared_error\n",
    "import numpy as np\n",
    "\n",
    "r2=r2_score(Y_test,Y_pred_new)\n",
    "print('R-squared:',r2)\n",
    "\n",
    "rmse=np.sqrt(mean_squared_error(Y_test,Y_pred_new))\n",
    "print(\"RMSE:\",rmse)\n",
    "\n",
    "adjusted_r_squared = 1 - (1-r2)*(len(Y)-1)/(len(Y)-X.shape[1]-1)\n",
    "print(\"Adj R-square:\",adjusted_r_squared)"
   ]
  },
  {
   "cell_type": "markdown",
   "metadata": {},
   "source": [
    "###### Insight:Here we can observe that R-squared: 0.8354496662944217,RMSE: 2.587881707737811,Adj R-square: 0.8337791045309133"
   ]
  },
  {
   "cell_type": "markdown",
   "metadata": {},
   "source": [
    "### Post Model Building"
   ]
  },
  {
   "cell_type": "code",
   "execution_count": null,
   "metadata": {},
   "outputs": [],
   "source": [
    "#Assumption: Errors should be random\n",
    "#checked using Residual v/s Fitted plot\n",
    "model_fitted_y = lm_model.fittedvalues\n",
    "sns.residplot(model_fitted_y, 'sales', data=new_df, lowess=True)# IT WILL PLOT PREDICTED AND ACTUAL VALIE IN RESIDPLOYT\n",
    "plt.xlabel('Fitted values')\n",
    "plt.ylabel('Residuals')\n",
    "plt.show()"
   ]
  },
  {
   "cell_type": "markdown",
   "metadata": {},
   "source": [
    "###### Insight: Here from the post model building assumption 1: Errors should be random and from this graph the error is not in the wave form which means that errors are random "
   ]
  },
  {
   "cell_type": "code",
   "execution_count": 46,
   "metadata": {},
   "outputs": [
    {
     "data": {
      "image/png": "[encoded data removed]",
      "text/plain": [
       "<Figure size 432x288 with 1 Axes>"
      ]
     },
     "execution_count": 46,
     "metadata": {},
     "output_type": "execute_result"
    },
    {
     "data": {
      "image/png": "[encoded data removed]",
      "text/plain": [
       "<Figure size 432x288 with 1 Axes>"
      ]
     },
     "metadata": {
      "needs_background": "light"
     },
     "output_type": "display_data"
    }
   ],
   "source": [
    "#Assumption: Errors should follow a approximate normal distribution\n",
    "#checked using Normal QQ plot\n",
    "import statsmodels.api as sma\n",
    "sma.qqplot(lm_model.resid, line='s')"
   ]
  },
  {
   "cell_type": "markdown",
   "metadata": {},
   "source": [
    "###### Insight:Here we can see that most of that error points lies in the line which means errors are approximate normal distribution"
   ]
  },
  {
   "cell_type": "code",
   "execution_count": 47,
   "metadata": {},
   "outputs": [
    {
     "data": {
      "image/png": "[encoded data removed]",
      "text/plain": [
       "<Figure size 432x288 with 1 Axes>"
      ]
     },
     "metadata": {
      "needs_background": "light"
     },
     "output_type": "display_data"
    }
   ],
   "source": [
    "#Assumption: Errors should follow a constant variance-->Homoskedasticity\n",
    "#checked using Scale location plot\n",
    "model_norm_residuals_abs_sqrt=np.sqrt(np.abs(lm_model.resid))\n",
    "\n",
    "sns.regplot(lm_model.fittedvalues,\n",
    "            model_norm_residuals_abs_sqrt,\n",
    "              scatter=True, lowess=True)        \n",
    "plt.ylabel(\"Standarized residuals\")\n",
    "plt.xlabel(\"Fitted value\")\n",
    "plt.show()\n"
   ]
  },
  {
   "cell_type": "markdown",
   "metadata": {},
   "source": [
    "###### Insights: Here errors are almost in horizontal way which means errors follow a constant variance"
   ]
  },
  {
   "cell_type": "markdown",
   "metadata": {},
   "source": [
    "## SGD"
   ]
  },
  {
   "cell_type": "code",
   "execution_count": 48,
   "metadata": {},
   "outputs": [],
   "source": [
    "np.set_printoptions(suppress=True)"
   ]
  },
  {
   "cell_type": "code",
   "execution_count": 49,
   "metadata": {},
   "outputs": [],
   "source": [
    "X=data[['TV','radio']]\n",
    "Y=data['sales']"
   ]
  },
  {
   "cell_type": "code",
   "execution_count": 50,
   "metadata": {},
   "outputs": [
    {
     "name": "stdout",
     "output_type": "stream",
     "text": [
      "[[ 0.96985227  0.98152247]\n",
      " [-1.19737623  1.08280781]\n",
      " [-1.51615499  1.52846331]\n",
      " [ 0.05204968  1.21785493]\n",
      " [ 0.3941822  -0.84161366]\n",
      " [-1.61540845  1.73103399]\n",
      " [-1.04557682  0.64390467]\n",
      " [-0.31343659 -0.24740632]\n",
      " [-1.61657614 -1.42906863]\n",
      " [ 0.61604287 -1.39530685]\n",
      " [-0.94515567 -1.17923146]\n",
      " [ 0.79002835  0.04969734]\n",
      " [-1.4390876   0.79920886]\n",
      " [-0.57850171 -1.05768905]\n",
      " [ 0.66625345  0.65065703]\n",
      " [ 0.56466461  1.65000572]\n",
      " [-0.92530498  0.9004942 ]\n",
      " [ 1.56887609  1.10306488]\n",
      " [-0.90895735 -0.18663512]\n",
      " [ 0.0030068   0.04294498]\n",
      " [ 0.8332328   0.29953451]\n",
      " [ 1.05509347 -1.22649795]\n",
      " [-1.5628625  -0.4972435 ]\n",
      " [ 0.94883389 -0.42971994]\n",
      " [-0.98952781 -0.72007125]\n",
      " [ 1.35285385 -1.33453565]\n",
      " [-0.04837147  0.40757221]\n",
      " [ 1.08662104 -0.44322465]\n",
      " [ 1.18820988  0.25902038]\n",
      " [-0.89260972 -0.49049114]\n",
      " [ 1.70316018  0.34004865]\n",
      " [-0.3986778  -0.39595816]\n",
      " [-0.58200477 -1.46958277]\n",
      " [ 1.38438142 -0.2203969 ]\n",
      " [-0.59952009 -1.47633512]\n",
      " [ 1.67747105 -1.29402151]\n",
      " [ 1.39956136  1.38666383]\n",
      " [-0.84473452  1.76479577]\n",
      " [-1.21372386  0.23201095]\n",
      " [ 0.94533082  0.97477012]\n",
      " [ 0.64757044 -0.06509271]\n",
      " [ 0.34981006  0.68441881]\n",
      " [ 1.711334    0.29953451]\n",
      " [ 0.6989487  -1.0036702 ]\n",
      " [-1.42390765  0.16448739]\n",
      " [ 0.327624   -0.051588  ]\n",
      " [-0.66958136 -0.90238486]\n",
      " [ 1.08428567  1.23135965]\n",
      " [ 0.93598932 -0.50399585]\n",
      " [-0.93581417 -0.78084245]\n",
      " [ 0.61604287 -1.36154507]\n",
      " [-0.54463877 -0.92264193]\n",
      " [ 0.80987904  1.24486436]\n",
      " [ 0.41520058  1.54872038]\n",
      " [ 1.35051848  0.37381043]\n",
      " [ 0.60553368  1.76479577]\n",
      " [-1.63175608  0.32654394]\n",
      " [-0.12660655 -0.27441575]\n",
      " [ 0.74448853  1.77830048]\n",
      " [ 0.74332084  0.42107692]\n",
      " [-1.09228433 -1.43582099]\n",
      " [ 1.33417085  1.31238792]\n",
      " [ 1.07727954 -0.52425292]\n",
      " [-0.51778195  0.42782928]\n",
      " [-0.18615862  1.31914027]\n",
      " [-0.91129272 -0.942899  ]\n",
      " [-1.34917564  0.09021148]\n",
      " [-0.09040823 -0.59177648]\n",
      " [ 1.05509347  0.2860298 ]\n",
      " [ 0.81454979  1.39341619]\n",
      " [ 0.60786906  0.49535284]\n",
      " [-0.43487612 -0.60528119]\n",
      " [-1.40405696  0.65740938]\n",
      " [-0.20600931 -1.18598381]\n",
      " [ 0.77484841  0.09021148]\n",
      " [-1.51965805  1.37991148]\n",
      " [-1.39588315 -1.46283041]\n",
      " [-0.30993353  0.35355336]\n",
      " [-1.65394214  0.44808635]\n",
      " [-0.36247947 -1.05093669]\n",
      " [-0.82488383  0.23201095]\n",
      " [ 1.08311798 -1.29402151]\n",
      " [-0.8377284  -0.20013983]\n",
      " [-0.91829885  1.43393033]\n",
      " [ 0.7760161   1.33264499]\n",
      " [ 0.53897548 -0.3284346 ]\n",
      " [-0.82605152  0.2860298 ]\n",
      " [-0.42436693  1.17058844]\n",
      " [-0.68592899  0.15098268]\n",
      " [-0.43487612  1.65675807]\n",
      " [-0.14879261 -1.24000266]\n",
      " [-1.38303858 -1.46958277]\n",
      " [ 0.82505898  0.69117116]\n",
      " [ 1.21273132  0.89374184]\n",
      " [-0.46290062 -0.62553826]\n",
      " [ 0.18983684  0.5628764 ]\n",
      " [ 0.59035374 -1.33453565]\n",
      " [ 0.4420574  -0.15287334]\n",
      " [ 1.66579418  1.28537849]\n",
      " [-0.13828342  1.24486436]\n",
      " [ 0.87994031 -1.2805168 ]\n",
      " [ 1.74402926  0.88023713]\n",
      " [ 1.55486384 -0.88888015]\n",
      " [ 0.47708803 -0.40946287]\n",
      " [ 1.06443498  0.74519001]\n",
      " [-0.10675585  1.56222509]\n",
      " [-1.42507534 -0.82810894]\n",
      " [-0.66140754 -1.55061104]\n",
      " [-1.56403019 -1.54385868]\n",
      " [ 1.26527727  0.24551567]\n",
      " [ 0.91964169 -1.01717491]\n",
      " [ 1.10530405  0.99502718]\n",
      " [ 0.33463012 -0.53100528]\n",
      " [ 0.73047627 -0.17988276]\n",
      " [-0.80386545  1.58923451]\n",
      " [-0.84006377  0.7924565 ]\n",
      " [-0.09157591 -0.60528119]\n",
      " [-0.82488383 -1.51684926]\n",
      " [-0.24921376  0.92075127]\n",
      " [-1.49046586 -0.49049114]\n",
      " [-0.06705447  0.23876331]\n",
      " [-1.49747198 -0.10560685]\n",
      " [ 0.89862331 -1.40881156]\n",
      " [-0.27957364  0.76544708]\n",
      " [ 0.96284614  0.61014289]\n",
      " [-0.69877355 -0.77409009]\n",
      " [-1.62591764  1.05579839]\n",
      " [-0.7805117  -1.57086811]\n",
      " [ 0.85541887  1.73778635]\n",
      " [-1.02105537 -0.76058538]\n",
      " [-1.70882347  1.10306488]\n",
      " [ 1.37971067 -1.37504978]\n",
      " [-1.61891151  0.26577273]\n",
      " [ 0.84958043  0.69117116]\n",
      " [-1.2861205   1.03554132]\n",
      " [-1.15300409  1.60273923]\n",
      " [-1.41806922  1.06255074]\n",
      " [ 1.47896413  0.38056279]\n",
      " [-1.21489154  0.1779921 ]\n",
      " [ 0.4420574   1.39341619]\n",
      " [-0.85991446 -0.42296758]\n",
      " [ 0.54481392  0.81946593]\n",
      " [ 0.85775424  0.67091409]\n",
      " [-0.49559588 -1.18598381]\n",
      " [-0.59368165 -0.57151941]\n",
      " [-0.07873135 -1.44257334]\n",
      " [ 1.08662104 -1.07794612]\n",
      " [ 1.12281936  1.73778635]\n",
      " [-1.27327593  1.15033137]\n",
      " [-1.19504085  0.17123975]\n",
      " [ 1.56070228 -0.63229062]\n",
      " [-0.30409509 -1.0036702 ]\n",
      " [ 0.59035374  0.00243085]\n",
      " [ 0.28325186  1.10981724]\n",
      " [ 0.47592034 -0.14612098]\n",
      " [-1.66912209 -0.78759481]\n",
      " [-0.62053847  1.36640677]\n",
      " [ 0.03219899 -1.48308748]\n",
      " [-1.58037782  0.92075127]\n",
      " [-0.1791525  -0.3284346 ]\n",
      " [ 0.29726411 -0.34869167]\n",
      " [-0.71628887  0.84647535]\n",
      " [ 0.48292647 -0.34869167]\n",
      " [ 0.19217221  0.91399891]\n",
      " [-0.34846722 -0.57827177]\n",
      " [ 1.02123053 -1.341288  ]\n",
      " [-1.50798117  0.96801776]\n",
      " [ 0.69778102 -1.21974559]\n",
      " [ 0.79820216  0.02268792]\n",
      " [ 1.60273904 -0.85511837]\n",
      " [-1.1331534  -0.78759481]\n",
      " [ 0.20384909 -0.1596257 ]\n",
      " [-1.48813048 -0.21364454]\n",
      " [ 0.24938891 -1.09145083]\n",
      " [ 0.87994031 -1.341288  ]\n",
      " [ 1.51633014  1.73103399]\n",
      " [ 1.18353913  0.46834341]\n",
      " [ 0.27040729 -1.04418434]\n",
      " [ 1.51399477 -1.41556392]\n",
      " [ 0.21669366 -0.8956325 ]\n",
      " [ 0.11160176 -1.39530685]\n",
      " [ 0.83440049 -1.20624088]\n",
      " [-1.06075676 -1.18598381]\n",
      " [ 1.64127273  1.33264499]\n",
      " [ 1.24659427 -0.13261627]\n",
      " [ 0.67676264  1.47444446]\n",
      " [-0.08807285 -1.42906863]\n",
      " [ 0.51445404  0.36705807]\n",
      " [ 1.62258973 -0.63229062]\n",
      " [-1.49863967 -0.75383303]\n",
      " [-1.25576062  1.20435022]\n",
      " [-0.83539302 -0.84161366]\n",
      " [-1.51615499 -1.29402151]\n",
      " [ 0.23070591  1.26512143]\n",
      " [ 0.0310313   0.83297064]\n",
      " [-1.27094056 -1.32103093]\n",
      " [-0.61703541 -1.24000266]\n",
      " [ 0.34981006 -0.942899  ]\n",
      " [ 1.59456522  1.26512143]\n",
      " [ 0.99320602 -0.99016549]]\n"
     ]
    }
   ],
   "source": [
    "from sklearn.preprocessing import StandardScaler\n",
    "# we do scaling only on X as they have multiple value \n",
    "scaler=StandardScaler()\n",
    "X=scaler.fit_transform(X)\n",
    "#scaler.fit(X)\n",
    "#X=scaler.transform(X)\n",
    "print(X)"
   ]
  },
  {
   "cell_type": "code",
   "execution_count": 51,
   "metadata": {},
   "outputs": [],
   "source": [
    "from sklearn.model_selection import train_test_split\n",
    "\n",
    "#split the data into test and train\n",
    "X_train,X_test,Y_train,Y_test=train_test_split(X,Y,test_size=0.2,random_state=10)"
   ]
  },
  {
   "cell_type": "code",
   "execution_count": 52,
   "metadata": {},
   "outputs": [
    {
     "name": "stdout",
     "output_type": "stream",
     "text": [
      "[13.98890698]\n",
      "[3.85235512 2.97443256]\n"
     ]
    }
   ],
   "source": [
    "from sklearn.linear_model import SGDRegressor\n",
    "\n",
    "lm = SGDRegressor(learning_rate=\"constant\",  \n",
    "                  #want to use a constant learning rate\n",
    "                  eta0=0.1,  #alpha\n",
    "                  shuffle=True, # to shuffle the data aftr each epoch\n",
    "        #while going ahead with the next epoch shuffle the obs\n",
    "                  random_state=10, #set seed\n",
    "                  max_iter=1000, #max no of epochs\n",
    "                  early_stopping=True,\n",
    "                  #stop if zero convergence is reached first\n",
    "                  n_iter_no_change=5) \n",
    "        #no of obs to wait for before concluding upon early stopping\n",
    "lm.fit(X_train,Y_train)\n",
    "\n",
    "\n",
    "# print intercept and coefficients\n",
    "print (lm.intercept_)\n",
    "print (lm.coef_)"
   ]
  },
  {
   "cell_type": "code",
   "execution_count": 53,
   "metadata": {},
   "outputs": [],
   "source": [
    "Y_pred_new=lm.predict(X_test)"
   ]
  },
  {
   "cell_type": "code",
   "execution_count": 54,
   "metadata": {},
   "outputs": [
    {
     "name": "stdout",
     "output_type": "stream",
     "text": [
      "R-squared: 0.8405363683205531\n",
      "RMSE: 2.5475684538895353\n",
      "Adj R-square: 0.8389174482019801\n"
     ]
    }
   ],
   "source": [
    "from sklearn.metrics import r2_score,mean_squared_error\n",
    "import numpy as np\n",
    "\n",
    "r2=r2_score(Y_test,Y_pred_new)\n",
    "print('R-squared:',r2)\n",
    "\n",
    "rmse=np.sqrt(mean_squared_error(Y_test,Y_pred_new))\n",
    "print(\"RMSE:\",rmse)\n",
    "\n",
    "adjusted_r_squared = 1 - (1-r2)*(len(Y)-1)/(len(Y)-X.shape[1]-1)\n",
    "print(\"Adj R-square:\",adjusted_r_squared)"
   ]
  },
  {
   "cell_type": "code",
   "execution_count": 55,
   "metadata": {},
   "outputs": [
    {
     "data": {
      "text/plain": [
       "11"
      ]
     },
     "execution_count": 55,
     "metadata": {},
     "output_type": "execute_result"
    }
   ],
   "source": [
    "lm.n_iter_"
   ]
  },
  {
   "cell_type": "code",
   "execution_count": 56,
   "metadata": {},
   "outputs": [
    {
     "data": {
      "text/plain": [
       "1761.0"
      ]
     },
     "execution_count": 56,
     "metadata": {},
     "output_type": "execute_result"
    }
   ],
   "source": [
    "lm.t_"
   ]
  },
  {
   "cell_type": "markdown",
   "metadata": {},
   "source": [
    "### Insight : Here from this we can conculde that SGD works well compared to base model ,lasso ,ridge and OLS"
   ]
  },
  {
   "cell_type": "markdown",
   "metadata": {},
   "source": [
    "# KNN Model"
   ]
  },
  {
   "cell_type": "code",
   "execution_count": 58,
   "metadata": {},
   "outputs": [],
   "source": [
    "data1=pd.read_csv(r\"C:\\Users\\Sushmitha\\Downloads\\Advertising.csv\",index_col=0,header=0)"
   ]
  },
  {
   "cell_type": "code",
   "execution_count": 59,
   "metadata": {},
   "outputs": [
    {
     "data": {
      "text/html": [
       "<div>\n",
       "<style scoped>\n",
       "    .dataframe tbody tr th:only-of-type {\n",
       "        vertical-align: middle;\n",
       "    }\n",
       "\n",
       "    .dataframe tbody tr th {\n",
       "        vertical-align: top;\n",
       "    }\n",
       "\n",
       "    .dataframe thead th {\n",
       "        text-align: right;\n",
       "    }\n",
       "</style>\n",
       "<table border=\"1\" class=\"dataframe\">\n",
       "  <thead>\n",
       "    <tr style=\"text-align: right;\">\n",
       "      <th></th>\n",
       "      <th>TV</th>\n",
       "      <th>radio</th>\n",
       "      <th>newspaper</th>\n",
       "      <th>sales</th>\n",
       "    </tr>\n",
       "  </thead>\n",
       "  <tbody>\n",
       "    <tr>\n",
       "      <th>1</th>\n",
       "      <td>230.1</td>\n",
       "      <td>37.8</td>\n",
       "      <td>69.2</td>\n",
       "      <td>22.1</td>\n",
       "    </tr>\n",
       "    <tr>\n",
       "      <th>2</th>\n",
       "      <td>44.5</td>\n",
       "      <td>39.3</td>\n",
       "      <td>45.1</td>\n",
       "      <td>10.4</td>\n",
       "    </tr>\n",
       "    <tr>\n",
       "      <th>3</th>\n",
       "      <td>17.2</td>\n",
       "      <td>45.9</td>\n",
       "      <td>69.3</td>\n",
       "      <td>9.3</td>\n",
       "    </tr>\n",
       "    <tr>\n",
       "      <th>4</th>\n",
       "      <td>151.5</td>\n",
       "      <td>41.3</td>\n",
       "      <td>58.5</td>\n",
       "      <td>18.5</td>\n",
       "    </tr>\n",
       "    <tr>\n",
       "      <th>5</th>\n",
       "      <td>180.8</td>\n",
       "      <td>10.8</td>\n",
       "      <td>58.4</td>\n",
       "      <td>12.9</td>\n",
       "    </tr>\n",
       "  </tbody>\n",
       "</table>\n",
       "</div>"
      ],
      "text/plain": [
       "      TV  radio  newspaper  sales\n",
       "1  230.1   37.8       69.2   22.1\n",
       "2   44.5   39.3       45.1   10.4\n",
       "3   17.2   45.9       69.3    9.3\n",
       "4  151.5   41.3       58.5   18.5\n",
       "5  180.8   10.8       58.4   12.9"
      ]
     },
     "execution_count": 59,
     "metadata": {},
     "output_type": "execute_result"
    }
   ],
   "source": [
    "data1.head()"
   ]
  },
  {
   "cell_type": "code",
   "execution_count": 60,
   "metadata": {},
   "outputs": [],
   "source": [
    "# Recreating X and Y\n",
    "X=data1[['TV','radio','newspaper']]# all rows : and 3 columns that is tv radio and newspaper\n",
    "Y=data1['sales']"
   ]
  },
  {
   "cell_type": "code",
   "execution_count": 61,
   "metadata": {},
   "outputs": [],
   "source": [
    "from sklearn.model_selection import train_test_split\n",
    "\n",
    "#split the data into test and train\n",
    "X_train,X_test,Y_train,Y_test=train_test_split(X,Y,test_size=0.2,random_state=10)"
   ]
  },
  {
   "cell_type": "code",
   "execution_count": 62,
   "metadata": {},
   "outputs": [
    {
     "data": {
      "text/plain": [
       "12"
      ]
     },
     "execution_count": 62,
     "metadata": {},
     "output_type": "execute_result"
    }
   ],
   "source": [
    "int(np.sqrt(len(X_train)))"
   ]
  },
  {
   "cell_type": "code",
   "execution_count": 63,
   "metadata": {},
   "outputs": [
    {
     "data": {
      "text/plain": [
       "array([16.64166667,  7.79166667, 18.125     , 21.64166667, 19.46666667,\n",
       "       12.84166667, 14.575     , 19.5       , 19.03333333,  7.85      ,\n",
       "       21.48333333,  9.8       ,  8.65833333, 18.20833333, 17.98333333,\n",
       "       11.71666667, 18.00833333,  6.85      , 19.61666667, 19.08333333,\n",
       "       14.70833333,  7.31666667, 21.85833333, 14.45833333, 18.20833333,\n",
       "        7.5       ,  9.03333333, 10.79166667, 19.925     ,  7.00833333,\n",
       "       12.875     , 19.3       ,  6.95833333,  7.39166667, 17.625     ,\n",
       "       16.75833333,  9.95      , 18.20833333, 10.64166667, 13.7       ])"
      ]
     },
     "execution_count": 63,
     "metadata": {},
     "output_type": "execute_result"
    }
   ],
   "source": [
    "#predicting using the Kneighbors_regressor\n",
    "\n",
    "from sklearn.neighbors import KNeighborsRegressor\n",
    "model_KNN=KNeighborsRegressor(n_neighbors=12,metric='euclidean')\n",
    "\n",
    "#fit the  model on the data and predict the values\n",
    "model_KNN.fit(X_train,Y_train)\n",
    "\n",
    "Y_pred=model_KNN.predict(X_test)\n",
    "#print(list(zip(Y_test,Y_pred)))\n",
    "Y_pred# average of all the values is the Y_pred values"
   ]
  },
  {
   "cell_type": "code",
   "execution_count": 64,
   "metadata": {},
   "outputs": [
    {
     "name": "stdout",
     "output_type": "stream",
     "text": [
      "R-squared: 0.8483613805522731\n",
      "RMSE: 2.4842765965836686\n",
      "Adj R-square: 0.8460403812750119\n"
     ]
    }
   ],
   "source": [
    "from sklearn.metrics import r2_score,mean_squared_error\n",
    "import numpy as np\n",
    "\n",
    "r2=r2_score(Y_test,Y_pred)\n",
    "print('R-squared:',r2)\n",
    "\n",
    "rmse=np.sqrt(mean_squared_error(Y_test,Y_pred))\n",
    "print(\"RMSE:\",rmse)\n",
    "\n",
    "adjusted_r_squared = 1 - (1-r2)*(len(Y)-1)/(len(Y)-X.shape[1]-1)\n",
    "print(\"Adj R-square:\",adjusted_r_squared)"
   ]
  },
  {
   "cell_type": "markdown",
   "metadata": {},
   "source": [
    "## Insight: Here from this we can conculde that KNN model  works well compared to base model ,lasso ,ridge ,SGD and OLS"
   ]
  },
  {
   "cell_type": "code",
   "execution_count": null,
   "metadata": {},
   "outputs": [],
   "source": []
  }
 ],
 "metadata": {
  "kernelspec": {
   "display_name": "Python 3",
   "language": "python",
   "name": "python3"
  },
  "language_info": {
   "codemirror_mode": {
    "name": "ipython",
    "version": 3
   },
   "file_extension": ".py",
   "mimetype": "text/x-python",
   "name": "python",
   "nbconvert_exporter": "python",
   "pygments_lexer": "ipython3",
   "version": "3.7.6"
  }
 },
 "nbformat": 4,
 "nbformat_minor": 4
}
